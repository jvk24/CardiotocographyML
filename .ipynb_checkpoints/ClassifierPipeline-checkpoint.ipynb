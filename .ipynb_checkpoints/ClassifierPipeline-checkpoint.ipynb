{
 "cells": [
  {
   "cell_type": "markdown",
   "id": "6d6666d8",
   "metadata": {},
   "source": [
    "# Cardiotocographic Classification using TensorFlow and Keras\n",
    "##### Cardiotocographic classification for fetal heart-rate and uterine contractions, implemented with a PySpark Pipeline\n",
    "\n",
    "Dataset from the UCI data repository: https://archive.ics.uci.edu/ml/datasets/cardiotocography"
   ]
  },
  {
   "cell_type": "code",
   "execution_count": 17,
   "id": "d56ca075",
   "metadata": {},
   "outputs": [],
   "source": [
    "#Pipeline dependencies\n",
    "from pyspark.ml import Pipeline\n",
    "from pyspark.ml.classification import LogisticRegression\n",
    "from pyspark.ml.feature import HashingTF, Tokenizer\n",
    "from pyspark.sql import SparkSession\n",
    "\n",
    "#Data manipulation, analysis and plotting tools\n",
    "import pandas as pd\n",
    "import numpy as np\n",
    "import matplotlib as plt\n",
    "\n",
    "#Machine Learning libraries\n",
    "#import sklearn as sk\n",
    "#import tensorflow as tf"
   ]
  },
  {
   "cell_type": "code",
   "execution_count": 18,
   "id": "536bf84c",
   "metadata": {},
   "outputs": [],
   "source": [
    "#Define the session and cluster\n",
    "spark = SparkSession.builder \\\n",
    "                    .master('local[4]') \\\n",
    "                    .appName('cardiotocography_pipeline') \\\n",
    "                    .getOrCreate()"
   ]
  },
  {
   "cell_type": "code",
   "execution_count": 19,
   "id": "aa567a64",
   "metadata": {},
   "outputs": [
    {
     "name": "stdout",
     "output_type": "stream",
     "text": [
      "root\n",
      " |-- FileName: string (nullable = true)\n",
      " |-- Date: string (nullable = true)\n",
      " |-- SegFile: string (nullable = true)\n",
      " |-- b3: integer (nullable = true)\n",
      " |-- e4: integer (nullable = true)\n",
      " |-- LBE: integer (nullable = true)\n",
      " |-- LB: integer (nullable = true)\n",
      " |-- AC: integer (nullable = true)\n",
      " |-- FM: integer (nullable = true)\n",
      " |-- UC: integer (nullable = true)\n",
      " |-- ASTV: integer (nullable = true)\n",
      " |-- MSTV: double (nullable = true)\n",
      " |-- ALTV: integer (nullable = true)\n",
      " |-- MLTV: double (nullable = true)\n",
      " |-- DL: integer (nullable = true)\n",
      " |-- DS: integer (nullable = true)\n",
      " |-- DP: integer (nullable = true)\n",
      " |-- DR: integer (nullable = true)\n",
      " |-- Width: integer (nullable = true)\n",
      " |-- Min: integer (nullable = true)\n",
      " |-- Max: integer (nullable = true)\n",
      " |-- Nmax: integer (nullable = true)\n",
      " |-- Nzeros: integer (nullable = true)\n",
      " |-- Mode: integer (nullable = true)\n",
      " |-- Mean: integer (nullable = true)\n",
      " |-- Median: integer (nullable = true)\n",
      " |-- Variance: integer (nullable = true)\n",
      " |-- Tendency: integer (nullable = true)\n",
      " |-- A: integer (nullable = true)\n",
      " |-- B29: integer (nullable = true)\n",
      " |-- C: integer (nullable = true)\n",
      " |-- D: integer (nullable = true)\n",
      " |-- E32: integer (nullable = true)\n",
      " |-- AD: integer (nullable = true)\n",
      " |-- DE: integer (nullable = true)\n",
      " |-- LD: integer (nullable = true)\n",
      " |-- FS: integer (nullable = true)\n",
      " |-- SUSP: integer (nullable = true)\n",
      " |-- CLASS: integer (nullable = true)\n",
      " |-- NSP: integer (nullable = true)\n",
      "\n"
     ]
    }
   ],
   "source": [
    "#Read the CSV dataset file and print the schema\n",
    "df = spark.read.options(header='True', #Specify that headers exist in dataset\n",
    "                        inferSchema='True', \n",
    "                        delimiter=',' #Comma delimited\n",
    "                       ).csv(\"CTG_data.csv\") #Source file\n",
    "\n",
    "#Drop missing values\n",
    "df = df.dropna()\n",
    "df.printSchema()"
   ]
  },
  {
   "attachments": {},
   "cell_type": "markdown",
   "id": "24018001",
   "metadata": {},
   "source": [
    "### Feature descriptions:\n",
    "- b: Start instant\n",
    "- e: End instant\n",
    "- LBE: Baseline value (medical expert)\n",
    "- LB: Baseline value (SisPorto)\n",
    "- AC: Accelerations (SisPorto)\n",
    "- FM: Foetal movement (SisPorto)\n",
    "- UC: Uterine contractions (SisPorto)\n",
    "- ASTV: percentage of time with abnormal short term variability  (SisPorto)\n",
    "- mSTV\tmean value of short term variability  (SisPorto)\n",
    "- ALTV\tpercentage of time with abnormal long term variability  (SisPorto)\n",
    "- mLTV\tmean value of long term variability  (SisPorto)\n",
    "- DL\tlight decelerations\n",
    "- DS\tsevere decelerations\n",
    "- DP\tprolongued decelerations\n",
    "- DR\trepetitive decelerations\n",
    "- Width\thistogram width\n",
    "- Min\tlow freq. of the histogram\n",
    "- Max\thigh freq. of the histogram\n",
    "- Nmax\tnumber of histogram peaks\n",
    "- Nzeros\tnumber of histogram zeros\n",
    "- Mode\thistogram mode\n",
    "- Mean\thistogram mean\n",
    "- Median\thistogram median\n",
    "- Variance\thistogram variance\n",
    "- Tendency\thistogram tendency: -1=left assymetric; 0=symmetric; 1=right assymetric![image.png]"
   ]
  },
  {
   "cell_type": "code",
   "execution_count": null,
   "id": "adbf981d",
   "metadata": {},
   "outputs": [],
   "source": []
  },
  {
   "cell_type": "code",
   "execution_count": null,
   "id": "a941ee73",
   "metadata": {},
   "outputs": [],
   "source": []
  }
 ],
 "metadata": {
  "kernelspec": {
   "display_name": "Python 3",
   "language": "python",
   "name": "python3"
  },
  "language_info": {
   "codemirror_mode": {
    "name": "ipython",
    "version": 3
   },
   "file_extension": ".py",
   "mimetype": "text/x-python",
   "name": "python",
   "nbconvert_exporter": "python",
   "pygments_lexer": "ipython3",
   "version": "3.8.8"
  }
 },
 "nbformat": 4,
 "nbformat_minor": 5
}
