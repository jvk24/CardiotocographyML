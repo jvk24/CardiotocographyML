{
 "cells": [
  {
   "cell_type": "markdown",
   "id": "b948268e",
   "metadata": {},
   "source": [
    "# Cardiotocographic Classification using TensorFlow and Keras\n",
    "##### Cardiotocographic classification for fetal heart-rate and uterine contractions, implemented with a PySpark Pipeline\n",
    "\n",
    "Dataset from the UCI data repository: https://archive.ics.uci.edu/ml/datasets/cardiotocography"
   ]
  },
  {
   "cell_type": "code",
   "execution_count": 1,
   "id": "2f6965d7",
   "metadata": {},
   "outputs": [],
   "source": [
    "#Pipeline dependencies\n",
    "from pyspark.ml import Pipeline\n",
    "from pyspark.ml.classification import LogisticRegression\n",
    "from pyspark.ml.feature import HashingTF, Tokenizer\n",
    "from pyspark.sql import SparkSession\n",
    "\n",
    "#Data manipulation, analysis and plotting tools\n",
    "import pandas as pd\n",
    "import numpy as np\n",
    "import matplotlib as plt\n",
    "\n",
    "#Machine Learning libraries\n",
    "import sklearn as sk\n",
    "import tensorflow as tf"
   ]
  },
  {
   "cell_type": "code",
   "execution_count": 2,
   "id": "e1cca579",
   "metadata": {},
   "outputs": [],
   "source": [
    "#Define the session and cluster\n",
    "spark = SparkSession.builder \\\n",
    "                    .master('local[4]') \\\n",
    "                    .appName('cardiotocography_pipeline') \\\n",
    "                    .getOrCreate()"
   ]
  },
  {
   "cell_type": "code",
   "execution_count": null,
   "id": "74d51c4d",
   "metadata": {},
   "outputs": [],
   "source": []
  }
 ],
 "metadata": {
  "kernelspec": {
   "display_name": "Python 3",
   "language": "python",
   "name": "python3"
  },
  "language_info": {
   "codemirror_mode": {
    "name": "ipython",
    "version": 3
   },
   "file_extension": ".py",
   "mimetype": "text/x-python",
   "name": "python",
   "nbconvert_exporter": "python",
   "pygments_lexer": "ipython3",
   "version": "3.8.8"
  }
 },
 "nbformat": 4,
 "nbformat_minor": 5
}
