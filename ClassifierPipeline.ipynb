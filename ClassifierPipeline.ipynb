{
 "cells": [
  {
   "cell_type": "markdown",
   "id": "fa4ddbc7",
   "metadata": {},
   "source": [
    "# Cardiotocographic Classification using Spark\n",
    "##### Cardiotocographic classification for fetal heart-rate and uterine contractions, implemented with a PySpark Pipeline\n",
    "\n",
    "Dataset from the UCI data repository: https://archive.ics.uci.edu/ml/datasets/cardiotocography"
   ]
  },
  {
   "cell_type": "code",
   "execution_count": 42,
   "id": "53b3a464",
   "metadata": {},
   "outputs": [],
   "source": [
    "#Pipeline dependencies\n",
    "from pyspark.ml import Pipeline\n",
    "from pyspark.ml.classification import LogisticRegression\n",
    "from pyspark.ml.feature import MinMaxScaler\n",
    "from pyspark.ml.feature import VectorAssembler\n",
    "from pyspark.ml.feature import HashingTF, Tokenizer\n",
    "from pyspark.sql import SparkSession\n",
    "\n",
    "#Data manipulation, analysis and plotting tools\n",
    "import pandas as pd\n",
    "import numpy as np\n",
    "import matplotlib as plt\n",
    "\n",
    "#Machine Learning libraries\n",
    "#import sklearn as sk\n",
    "#import tensorflow as tf"
   ]
  },
  {
   "cell_type": "code",
   "execution_count": 18,
   "id": "1222fc52",
   "metadata": {},
   "outputs": [],
   "source": [
    "#Define the session and cluster\n",
    "spark = SparkSession.builder \\\n",
    "                    .master('local[4]') \\\n",
    "                    .appName('cardiotocography_pipeline') \\\n",
    "                    .getOrCreate()"
   ]
  },
  {
   "cell_type": "code",
   "execution_count": 28,
   "id": "11225cbd",
   "metadata": {},
   "outputs": [
    {
     "name": "stdout",
     "output_type": "stream",
     "text": [
      "root\n",
      " |-- b3: integer (nullable = true)\n",
      " |-- e4: integer (nullable = true)\n",
      " |-- LBE: integer (nullable = true)\n",
      " |-- LB: integer (nullable = true)\n",
      " |-- AC: integer (nullable = true)\n",
      " |-- FM: integer (nullable = true)\n",
      " |-- UC: integer (nullable = true)\n",
      " |-- ASTV: integer (nullable = true)\n",
      " |-- MSTV: double (nullable = true)\n",
      " |-- ALTV: integer (nullable = true)\n",
      " |-- MLTV: double (nullable = true)\n",
      " |-- DL: integer (nullable = true)\n",
      " |-- DS: integer (nullable = true)\n",
      " |-- DP: integer (nullable = true)\n",
      " |-- DR: integer (nullable = true)\n",
      " |-- Width: integer (nullable = true)\n",
      " |-- Min: integer (nullable = true)\n",
      " |-- Max: integer (nullable = true)\n",
      " |-- Nmax: integer (nullable = true)\n",
      " |-- Nzeros: integer (nullable = true)\n",
      " |-- Mode: integer (nullable = true)\n",
      " |-- Mean: integer (nullable = true)\n",
      " |-- Median: integer (nullable = true)\n",
      " |-- Variance: integer (nullable = true)\n",
      " |-- Tendency: integer (nullable = true)\n",
      " |-- CLASS: integer (nullable = true)\n",
      " |-- NSP: integer (nullable = true)\n",
      "\n"
     ]
    }
   ],
   "source": [
    "#Read the CSV dataset file and print the schema\n",
    "df = spark.read.options(header='True', #Specify that headers exist in dataset\n",
    "                        inferSchema='True', \n",
    "                        delimiter=',' #Comma delimited\n",
    "                       ).csv(\"CTG_data.csv\") #Source file\n",
    "\n",
    "#Drop missing values\n",
    "df = df.dropna()\n",
    "\n",
    "#Required to drop some attributes which likely do not add to the learning of the model:\n",
    "#- FileName, Date, SegFile to be truncated\n",
    "df = df.drop(\"FileName\",\"Date\",\"SegFile\")\n",
    "\n",
    "#Dataset has seemed to already One-Hot-Encoded the multiclass target 'Class' labels to:\n",
    "# A,B,C,D,E,AD,DE,LD,FS,SUSP\n",
    "#Since this is the target label, we can remove those columns and retain the Class column\n",
    "#which contains the multiclass numbers between 1-10\n",
    "df = df.drop(\"A\",\"B29\",\"C\",\"D\",\"E32\",\"AD\",\"DE\",\"LD\",\"FS\",\"SUSP\")\n",
    "df.printSchema()"
   ]
  },
  {
   "attachments": {},
   "cell_type": "markdown",
   "id": "95c1ca78",
   "metadata": {},
   "source": [
    "### Feature descriptions:\n",
    "- b: Start instant\n",
    "- e: End instant\n",
    "- LBE: Baseline value (medical expert)\n",
    "- LB: Baseline value (SisPorto)\n",
    "- AC: Accelerations (SisPorto)\n",
    "- FM: Foetal movement (SisPorto)\n",
    "- UC: Uterine contractions (SisPorto)\n",
    "- ASTV: percentage of time with abnormal short term variability  (SisPorto)\n",
    "- mSTV:\tmean value of short term variability  (SisPorto)\n",
    "- ALTV:\tpercentage of time with abnormal long term variability  (SisPorto)\n",
    "- mLTV:\tmean value of long term variability  (SisPorto)\n",
    "- DL:\tlight decelerations\n",
    "- DS:\tsevere decelerations\n",
    "- DP:\tprolongued decelerations\n",
    "- DR:\trepetitive decelerations\n",
    "- Width:  histogram width\n",
    "- Min:\tlow freq. of the histogram\n",
    "- Max:\thigh freq. of the histogram\n",
    "- Nmax:\tnumber of histogram peaks\n",
    "- Nzeros:\tnumber of histogram zeros\n",
    "- Mode:\thistogram mode\n",
    "- Mean:\thistogram mean\n",
    "- Median:\thistogram median\n",
    "- Variance:\thistogram variance\n",
    "- Tendency:\thistogram tendency: [-1=left assymetric; 0=symmetric; 1=right assymetric]\n",
    "\n",
    "### Classes\n",
    "- A: Calm sleep\n",
    "- B: REM sleep\n",
    "- C: Calm vigilance\n",
    "- D: Actice vigilance\n",
    "- E: Shift pattern (A or Susp with shifts)\n",
    "- AD: Accelerative/Decelerative pattern (stress simulation)\n",
    "- DE: Decelerative pattern (vagal stimulation)\n",
    "- LD: Largely develerative pattern\n",
    "- FS: Flat-sinusoidal pattern (pathogenic state)\n",
    "- SUSP: Suspect pattern\n",
    "\n",
    "#### Further higher level classification (NSP):\n",
    "- 1: Normal\n",
    "- 2: Suspect\n",
    "- 3: Pathogenic"
   ]
  },
  {
   "cell_type": "code",
   "execution_count": 62,
   "id": "1a076dd9",
   "metadata": {},
   "outputs": [],
   "source": [
    "featuresToScale = [f[0] for f in df.dtypes if f[0] not in [\"CLASS\", \"NSP\"]]\n",
    "\n",
    "assembler = VectorAssembler(inputCols=featuresToScale, outputCol=\"x_vec\")\n",
    "temp_train = assembler.transform(df)\n",
    "\n",
    "scaler = MinMaxScaler(inputCol=\"x_vec\", outputCol=\"x_scaled\")\n",
    "scaledData = scaler.fit(temp_train).transform(temp_train)"
   ]
  },
  {
   "cell_type": "code",
   "execution_count": 67,
   "id": "9cae6d65",
   "metadata": {},
   "outputs": [
    {
     "name": "stdout",
     "output_type": "stream",
     "text": [
      "+---+---+---+---+---+---+---+----+----+----+----+---+---+---+---+-----+---+---+----+------+----+----+------+--------+--------+-----+---+--------------------------------------------------------------------------------------------------------------------------+-------------------------------------------------------------------------------------------------------------------------------------------------------------------------------------------------------------------------------------------------------------------------------------------------------------------------------------------------------------------+\n",
      "|b3 |e4 |LBE|LB |AC |FM |UC |ASTV|MSTV|ALTV|MLTV|DL |DS |DP |DR |Width|Min|Max|Nmax|Nzeros|Mode|Mean|Median|Variance|Tendency|CLASS|NSP|x_vec                                                                                                                     |x_scaled                                                                                                                                                                                                                                                                                                                                                           |\n",
      "+---+---+---+---+---+---+---+----+----+----+----+---+---+---+---+-----+---+---+----+------+----+----+------+--------+--------+-----+---+--------------------------------------------------------------------------------------------------------------------------+-------------------------------------------------------------------------------------------------------------------------------------------------------------------------------------------------------------------------------------------------------------------------------------------------------------------------------------------------------------------+\n",
      "|240|357|120|120|0  |0  |0  |73  |0.5 |43  |2.4 |0  |0  |0  |0  |64   |62 |126|2   |0     |120 |137 |121   |73      |1       |9    |2  |[240.0,357.0,120.0,120.0,0.0,0.0,0.0,73.0,0.5,43.0,2.4,0.0,0.0,0.0,0.0,64.0,62.0,126.0,2.0,0.0,120.0,137.0,121.0,73.0,1.0]|[0.07281553398058252,0.021135265700483092,0.25925925925925924,0.25925925925925924,0.0,0.0,0.0,0.8133333333333334,0.04411764705882353,0.47252747252747257,0.047337278106508875,0.0,0.0,0.0,0.5,0.3446327683615819,0.11009174311926606,0.034482758620689655,0.1111111111111111,0.0,0.47244094488188976,0.5871559633027523,0.4036697247706422,0.27137546468401486,1.0]|\n",
      "+---+---+---+---+---+---+---+----+----+----+----+---+---+---+---+-----+---+---+----+------+----+----+------+--------+--------+-----+---+--------------------------------------------------------------------------------------------------------------------------+-------------------------------------------------------------------------------------------------------------------------------------------------------------------------------------------------------------------------------------------------------------------------------------------------------------------------------------------------------------------+\n",
      "only showing top 1 row\n",
      "\n"
     ]
    }
   ],
   "source": [
    "scaledData.show(1, truncate=False)"
   ]
  },
  {
   "cell_type": "code",
   "execution_count": 94,
   "id": "92a322a5",
   "metadata": {},
   "outputs": [
    {
     "name": "stdout",
     "output_type": "stream",
     "text": [
      "+-----+\n",
      "|CLASS|\n",
      "+-----+\n",
      "|    7|\n",
      "|    2|\n",
      "|   10|\n",
      "|    2|\n",
      "|    2|\n",
      "|    2|\n",
      "|    7|\n",
      "|    1|\n",
      "|    2|\n",
      "|    5|\n",
      "|    7|\n",
      "|    4|\n",
      "|   10|\n",
      "|    6|\n",
      "|   10|\n",
      "|    2|\n",
      "|    1|\n",
      "|    2|\n",
      "|    8|\n",
      "|    6|\n",
      "+-----+\n",
      "only showing top 20 rows\n",
      "\n"
     ]
    }
   ],
   "source": [
    "train_data, test_data = scaledData.randomSplit([0.75, 0.35], 23)\n",
    "labels = "
   ]
  },
  {
   "cell_type": "code",
   "execution_count": 101,
   "id": "92342d53",
   "metadata": {},
   "outputs": [],
   "source": [
    "training = train_data.select(train_data.columns[-1])\n",
    "#training = training.withColumn(\"CLASS\", scaledData.CLASS)\n",
    "\n",
    "#testing = test_data.select(test_data.columns[-1])"
   ]
  },
  {
   "cell_type": "code",
   "execution_count": null,
   "id": "e6e04f78",
   "metadata": {},
   "outputs": [],
   "source": []
  }
 ],
 "metadata": {
  "kernelspec": {
   "display_name": "Python 3",
   "language": "python",
   "name": "python3"
  },
  "language_info": {
   "codemirror_mode": {
    "name": "ipython",
    "version": 3
   },
   "file_extension": ".py",
   "mimetype": "text/x-python",
   "name": "python",
   "nbconvert_exporter": "python",
   "pygments_lexer": "ipython3",
   "version": "3.8.8"
  }
 },
 "nbformat": 4,
 "nbformat_minor": 5
}
