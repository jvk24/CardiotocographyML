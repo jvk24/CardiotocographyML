{
 "cells": [
  {
   "cell_type": "markdown",
   "id": "828df21c",
   "metadata": {},
   "source": [
    "# Cardiotocographic Classification using Spark\n",
    "##### Cardiotocographic classification for fetal heart-rate and uterine contractions, implemented with a PySpark Pipeline\n",
    "\n",
    "Dataset from the UCI data repository: https://archive.ics.uci.edu/ml/datasets/cardiotocography"
   ]
  },
  {
   "cell_type": "code",
   "execution_count": 42,
   "id": "be9ea78d",
   "metadata": {},
   "outputs": [],
   "source": [
    "#Pipeline dependencies\n",
    "from pyspark.ml import Pipeline\n",
    "from pyspark.ml.classification import LogisticRegression\n",
    "from pyspark.ml.feature import MinMaxScaler\n",
    "from pyspark.ml.feature import VectorAssembler\n",
    "from pyspark.ml.feature import HashingTF, Tokenizer\n",
    "from pyspark.sql import SparkSession\n",
    "\n",
    "#Data manipulation, analysis and plotting tools\n",
    "import pandas as pd\n",
    "import numpy as np\n",
    "import matplotlib as plt\n",
    "\n",
    "#Machine Learning libraries\n",
    "#import sklearn as sk\n",
    "#import tensorflow as tf"
   ]
  },
  {
   "cell_type": "code",
   "execution_count": 18,
   "id": "a27a2081",
   "metadata": {},
   "outputs": [],
   "source": [
    "#Define the session and cluster\n",
    "spark = SparkSession.builder \\\n",
    "                    .master('local[4]') \\\n",
    "                    .appName('cardiotocography_pipeline') \\\n",
    "                    .getOrCreate()"
   ]
  },
  {
   "cell_type": "code",
   "execution_count": 28,
   "id": "83951945",
   "metadata": {},
   "outputs": [
    {
     "name": "stdout",
     "output_type": "stream",
     "text": [
      "root\n",
      " |-- b3: integer (nullable = true)\n",
      " |-- e4: integer (nullable = true)\n",
      " |-- LBE: integer (nullable = true)\n",
      " |-- LB: integer (nullable = true)\n",
      " |-- AC: integer (nullable = true)\n",
      " |-- FM: integer (nullable = true)\n",
      " |-- UC: integer (nullable = true)\n",
      " |-- ASTV: integer (nullable = true)\n",
      " |-- MSTV: double (nullable = true)\n",
      " |-- ALTV: integer (nullable = true)\n",
      " |-- MLTV: double (nullable = true)\n",
      " |-- DL: integer (nullable = true)\n",
      " |-- DS: integer (nullable = true)\n",
      " |-- DP: integer (nullable = true)\n",
      " |-- DR: integer (nullable = true)\n",
      " |-- Width: integer (nullable = true)\n",
      " |-- Min: integer (nullable = true)\n",
      " |-- Max: integer (nullable = true)\n",
      " |-- Nmax: integer (nullable = true)\n",
      " |-- Nzeros: integer (nullable = true)\n",
      " |-- Mode: integer (nullable = true)\n",
      " |-- Mean: integer (nullable = true)\n",
      " |-- Median: integer (nullable = true)\n",
      " |-- Variance: integer (nullable = true)\n",
      " |-- Tendency: integer (nullable = true)\n",
      " |-- CLASS: integer (nullable = true)\n",
      " |-- NSP: integer (nullable = true)\n",
      "\n"
     ]
    }
   ],
   "source": [
    "#Read the CSV dataset file and print the schema\n",
    "df = spark.read.options(header='True', #Specify that headers exist in dataset\n",
    "                        inferSchema='True', \n",
    "                        delimiter=',' #Comma delimited\n",
    "                       ).csv(\"CTG_data.csv\") #Source file\n",
    "\n",
    "#Drop missing values\n",
    "df = df.dropna()\n",
    "\n",
    "#Required to drop some attributes which likely do not add to the learning of the model:\n",
    "#- FileName, Date, SegFile to be truncated\n",
    "df = df.drop(\"FileName\",\"Date\",\"SegFile\")\n",
    "\n",
    "#Dataset has seemed to already One-Hot-Encoded the multiclass target 'Class' labels to:\n",
    "# A,B,C,D,E,AD,DE,LD,FS,SUSP\n",
    "#Since this is the target label, we can remove those columns and retain the Class column\n",
    "#which contains the multiclass numbers between 1-10\n",
    "df = df.drop(\"A\",\"B29\",\"C\",\"D\",\"E32\",\"AD\",\"DE\",\"LD\",\"FS\",\"SUSP\")\n",
    "df.printSchema()"
   ]
  },
  {
   "attachments": {},
   "cell_type": "markdown",
   "id": "0c82c968",
   "metadata": {},
   "source": [
    "### Feature descriptions:\n",
    "- b: Start instant\n",
    "- e: End instant\n",
    "- LBE: Baseline value (medical expert)\n",
    "- LB: Baseline value (SisPorto)\n",
    "- AC: Accelerations (SisPorto)\n",
    "- FM: Foetal movement (SisPorto)\n",
    "- UC: Uterine contractions (SisPorto)\n",
    "- ASTV: percentage of time with abnormal short term variability  (SisPorto)\n",
    "- mSTV:\tmean value of short term variability  (SisPorto)\n",
    "- ALTV:\tpercentage of time with abnormal long term variability  (SisPorto)\n",
    "- mLTV:\tmean value of long term variability  (SisPorto)\n",
    "- DL:\tlight decelerations\n",
    "- DS:\tsevere decelerations\n",
    "- DP:\tprolongued decelerations\n",
    "- DR:\trepetitive decelerations\n",
    "- Width:  histogram width\n",
    "- Min:\tlow freq. of the histogram\n",
    "- Max:\thigh freq. of the histogram\n",
    "- Nmax:\tnumber of histogram peaks\n",
    "- Nzeros:\tnumber of histogram zeros\n",
    "- Mode:\thistogram mode\n",
    "- Mean:\thistogram mean\n",
    "- Median:\thistogram median\n",
    "- Variance:\thistogram variance\n",
    "- Tendency:\thistogram tendency: [-1=left assymetric; 0=symmetric; 1=right assymetric]\n",
    "\n",
    "### Classes\n",
    "- A: Calm sleep\n",
    "- B: REM sleep\n",
    "- C: Calm vigilance\n",
    "- D: Actice vigilance\n",
    "- E: Shift pattern (A or Susp with shifts)\n",
    "- AD: Accelerative/Decelerative pattern (stress simulation)\n",
    "- DE: Decelerative pattern (vagal stimulation)\n",
    "- LD: Largely develerative pattern\n",
    "- FS: Flat-sinusoidal pattern (pathogenic state)\n",
    "- SUSP: Suspect pattern\n",
    "\n",
    "#### Further higher level classification (NSP):\n",
    "- 1: Normal\n",
    "- 2: Suspect\n",
    "- 3: Pathogenic"
   ]
  },
  {
   "cell_type": "code",
   "execution_count": 62,
   "id": "ede467d0",
   "metadata": {},
   "outputs": [],
   "source": [
    "featuresToScale = [f[0] for f in df.dtypes if f[0] not in [\"CLASS\", \"NSP\"]]\n",
    "\n",
    "assembler = VectorAssembler(inputCols=featuresToScale, outputCol=\"x_vec\")\n",
    "temp_train = assembler.transform(df)\n",
    "\n",
    "scaler = MinMaxScaler(inputCol=\"x_vec\", outputCol=\"x_scaled\")\n",
    "scaledData = scaler.fit(temp_train).transform(temp_train)"
   ]
  },
  {
   "cell_type": "code",
   "execution_count": 67,
   "id": "3f55bbff",
   "metadata": {},
   "outputs": [
    {
     "name": "stdout",
     "output_type": "stream",
     "text": [
      "+---+---+---+---+---+---+---+----+----+----+----+---+---+---+---+-----+---+---+----+------+----+----+------+--------+--------+-----+---+--------------------------------------------------------------------------------------------------------------------------+-------------------------------------------------------------------------------------------------------------------------------------------------------------------------------------------------------------------------------------------------------------------------------------------------------------------------------------------------------------------+\n",
      "|b3 |e4 |LBE|LB |AC |FM |UC |ASTV|MSTV|ALTV|MLTV|DL |DS |DP |DR |Width|Min|Max|Nmax|Nzeros|Mode|Mean|Median|Variance|Tendency|CLASS|NSP|x_vec                                                                                                                     |x_scaled                                                                                                                                                                                                                                                                                                                                                           |\n",
      "+---+---+---+---+---+---+---+----+----+----+----+---+---+---+---+-----+---+---+----+------+----+----+------+--------+--------+-----+---+--------------------------------------------------------------------------------------------------------------------------+-------------------------------------------------------------------------------------------------------------------------------------------------------------------------------------------------------------------------------------------------------------------------------------------------------------------------------------------------------------------+\n",
      "|240|357|120|120|0  |0  |0  |73  |0.5 |43  |2.4 |0  |0  |0  |0  |64   |62 |126|2   |0     |120 |137 |121   |73      |1       |9    |2  |[240.0,357.0,120.0,120.0,0.0,0.0,0.0,73.0,0.5,43.0,2.4,0.0,0.0,0.0,0.0,64.0,62.0,126.0,2.0,0.0,120.0,137.0,121.0,73.0,1.0]|[0.07281553398058252,0.021135265700483092,0.25925925925925924,0.25925925925925924,0.0,0.0,0.0,0.8133333333333334,0.04411764705882353,0.47252747252747257,0.047337278106508875,0.0,0.0,0.0,0.5,0.3446327683615819,0.11009174311926606,0.034482758620689655,0.1111111111111111,0.0,0.47244094488188976,0.5871559633027523,0.4036697247706422,0.27137546468401486,1.0]|\n",
      "+---+---+---+---+---+---+---+----+----+----+----+---+---+---+---+-----+---+---+----+------+----+----+------+--------+--------+-----+---+--------------------------------------------------------------------------------------------------------------------------+-------------------------------------------------------------------------------------------------------------------------------------------------------------------------------------------------------------------------------------------------------------------------------------------------------------------------------------------------------------------+\n",
      "only showing top 1 row\n",
      "\n"
     ]
    }
   ],
   "source": [
    "scaledData.show(1, truncate=False)"
   ]
  },
  {
   "cell_type": "code",
   "execution_count": 94,
   "id": "0e5b6bc1",
   "metadata": {},
   "outputs": [
    {
     "name": "stdout",
     "output_type": "stream",
     "text": [
      "+-----+\n",
      "|CLASS|\n",
      "+-----+\n",
      "|    7|\n",
      "|    2|\n",
      "|   10|\n",
      "|    2|\n",
      "|    2|\n",
      "|    2|\n",
      "|    7|\n",
      "|    1|\n",
      "|    2|\n",
      "|    5|\n",
      "|    7|\n",
      "|    4|\n",
      "|   10|\n",
      "|    6|\n",
      "|   10|\n",
      "|    2|\n",
      "|    1|\n",
      "|    2|\n",
      "|    8|\n",
      "|    6|\n",
      "+-----+\n",
      "only showing top 20 rows\n",
      "\n"
     ]
    }
   ],
   "source": [
    "train_data, test_data = scaledData.randomSplit([0.75, 0.35], 23)\n",
    "labels = "
   ]
  },
  {
   "cell_type": "code",
   "execution_count": 100,
   "id": "f19a2642",
   "metadata": {},
   "outputs": [
    {
     "ename": "AnalysisException",
     "evalue": "Resolved attribute(s) CLASS#3015 missing from x_scaled#4571 in operator !Project [x_scaled#4571, CLASS#3015 AS CLASS#6530].;\n!Project [x_scaled#4571, CLASS#3015 AS CLASS#6530]\n+- Project [x_scaled#4571]\n   +- Sample 0.0, 0.6818181818181818, false, 23\n      +- Sort [b3#2980 ASC NULLS FIRST, e4#2981 ASC NULLS FIRST, LBE#2982 ASC NULLS FIRST, LB#2983 ASC NULLS FIRST, AC#2984 ASC NULLS FIRST, FM#2985 ASC NULLS FIRST, UC#2986 ASC NULLS FIRST, ASTV#2987 ASC NULLS FIRST, MSTV#2988 ASC NULLS FIRST, ALTV#2989 ASC NULLS FIRST, MLTV#2990 ASC NULLS FIRST, DL#2991 ASC NULLS FIRST, DS#2992 ASC NULLS FIRST, DP#2993 ASC NULLS FIRST, DR#2994 ASC NULLS FIRST, Width#2995 ASC NULLS FIRST, Min#2996 ASC NULLS FIRST, Max#2997 ASC NULLS FIRST, Nmax#2998 ASC NULLS FIRST, Nzeros#2999 ASC NULLS FIRST, Mode#3000 ASC NULLS FIRST, Mean#3001 ASC NULLS FIRST, Median#3002 ASC NULLS FIRST, Variance#3003 ASC NULLS FIRST, ... 5 more fields], false\n         +- Project [b3#2980, e4#2981, LBE#2982, LB#2983, AC#2984, FM#2985, UC#2986, ASTV#2987, MSTV#2988, ALTV#2989, MLTV#2990, DL#2991, DS#2992, DP#2993, DR#2994, Width#2995, Min#2996, Max#2997, Nmax#2998, Nzeros#2999, Mode#3000, Mean#3001, Median#3002, Variance#3003, ... 5 more fields]\n            +- Project [b3#2980, e4#2981, LBE#2982, LB#2983, AC#2984, FM#2985, UC#2986, ASTV#2987, MSTV#2988, ALTV#2989, MLTV#2990, DL#2991, DS#2992, DP#2993, DR#2994, Width#2995, Min#2996, Max#2997, Nmax#2998, Nzeros#2999, Mode#3000, Mean#3001, Median#3002, Variance#3003, ... 4 more fields]\n               +- Project [b3#2980, e4#2981, LBE#2982, LB#2983, AC#2984, FM#2985, UC#2986, ASTV#2987, MSTV#2988, ALTV#2989, MLTV#2990, DL#2991, DS#2992, DP#2993, DR#2994, Width#2995, Min#2996, Max#2997, Nmax#2998, Nzeros#2999, Mode#3000, Mean#3001, Median#3002, Variance#3003, ... 3 more fields]\n                  +- Project [b3#2980, e4#2981, LBE#2982, LB#2983, AC#2984, FM#2985, UC#2986, ASTV#2987, MSTV#2988, ALTV#2989, MLTV#2990, DL#2991, DS#2992, DP#2993, DR#2994, Width#2995, Min#2996, Max#2997, Nmax#2998, Nzeros#2999, Mode#3000, Mean#3001, Median#3002, Variance#3003, ... 13 more fields]\n                     +- Filter atleastnnonnulls(40, FileName#2977, Date#2978, SegFile#2979, b3#2980, e4#2981, LBE#2982, LB#2983, AC#2984, FM#2985, UC#2986, ASTV#2987, MSTV#2988, ALTV#2989, MLTV#2990, DL#2991, DS#2992, DP#2993, DR#2994, Width#2995, Min#2996, Max#2997, Nmax#2998, Nzeros#2999, ... 17 more fields)\n                        +- Relation [FileName#2977,Date#2978,SegFile#2979,b3#2980,e4#2981,LBE#2982,LB#2983,AC#2984,FM#2985,UC#2986,ASTV#2987,MSTV#2988,ALTV#2989,MLTV#2990,DL#2991,DS#2992,DP#2993,DR#2994,Width#2995,Min#2996,Max#2997,Nmax#2998,Nzeros#2999,Mode#3000,... 16 more fields] csv\n",
     "output_type": "error",
     "traceback": [
      "\u001b[0;31m---------------------------------------------------------------------------\u001b[0m",
      "\u001b[0;31mAnalysisException\u001b[0m                         Traceback (most recent call last)",
      "\u001b[0;32m<ipython-input-100-00ef8827b6b0>\u001b[0m in \u001b[0;36m<module>\u001b[0;34m\u001b[0m\n\u001b[1;32m      1\u001b[0m \u001b[0mtraining\u001b[0m \u001b[0;34m=\u001b[0m \u001b[0mtrain_data\u001b[0m\u001b[0;34m.\u001b[0m\u001b[0mselect\u001b[0m\u001b[0;34m(\u001b[0m\u001b[0mtrain_data\u001b[0m\u001b[0;34m.\u001b[0m\u001b[0mcolumns\u001b[0m\u001b[0;34m[\u001b[0m\u001b[0;34m-\u001b[0m\u001b[0;36m1\u001b[0m\u001b[0;34m]\u001b[0m\u001b[0;34m)\u001b[0m\u001b[0;34m\u001b[0m\u001b[0;34m\u001b[0m\u001b[0m\n\u001b[0;32m----> 2\u001b[0;31m \u001b[0mtraining\u001b[0m \u001b[0;34m=\u001b[0m \u001b[0mtraining\u001b[0m\u001b[0;34m.\u001b[0m\u001b[0mwithColumn\u001b[0m\u001b[0;34m(\u001b[0m\u001b[0;34m\"CLASS\"\u001b[0m\u001b[0;34m,\u001b[0m \u001b[0mscaledData\u001b[0m\u001b[0;34m.\u001b[0m\u001b[0mCLASS\u001b[0m\u001b[0;34m)\u001b[0m\u001b[0;34m\u001b[0m\u001b[0;34m\u001b[0m\u001b[0m\n\u001b[0m\u001b[1;32m      3\u001b[0m \u001b[0;34m\u001b[0m\u001b[0m\n\u001b[1;32m      4\u001b[0m \u001b[0mtesting\u001b[0m \u001b[0;34m=\u001b[0m \u001b[0mtest_data\u001b[0m\u001b[0;34m.\u001b[0m\u001b[0mselect\u001b[0m\u001b[0;34m(\u001b[0m\u001b[0mtest_data\u001b[0m\u001b[0;34m.\u001b[0m\u001b[0mcolumns\u001b[0m\u001b[0;34m[\u001b[0m\u001b[0;34m-\u001b[0m\u001b[0;36m1\u001b[0m\u001b[0;34m]\u001b[0m\u001b[0;34m)\u001b[0m\u001b[0;34m\u001b[0m\u001b[0;34m\u001b[0m\u001b[0m\n",
      "\u001b[0;32m~/opt/anaconda3/lib/python3.8/site-packages/pyspark/sql/dataframe.py\u001b[0m in \u001b[0;36mwithColumn\u001b[0;34m(self, colName, col)\u001b[0m\n\u001b[1;32m   2476\u001b[0m         \u001b[0;32mif\u001b[0m \u001b[0;32mnot\u001b[0m \u001b[0misinstance\u001b[0m\u001b[0;34m(\u001b[0m\u001b[0mcol\u001b[0m\u001b[0;34m,\u001b[0m \u001b[0mColumn\u001b[0m\u001b[0;34m)\u001b[0m\u001b[0;34m:\u001b[0m\u001b[0;34m\u001b[0m\u001b[0;34m\u001b[0m\u001b[0m\n\u001b[1;32m   2477\u001b[0m             \u001b[0;32mraise\u001b[0m \u001b[0mTypeError\u001b[0m\u001b[0;34m(\u001b[0m\u001b[0;34m\"col should be Column\"\u001b[0m\u001b[0;34m)\u001b[0m\u001b[0;34m\u001b[0m\u001b[0;34m\u001b[0m\u001b[0m\n\u001b[0;32m-> 2478\u001b[0;31m         \u001b[0;32mreturn\u001b[0m \u001b[0mDataFrame\u001b[0m\u001b[0;34m(\u001b[0m\u001b[0mself\u001b[0m\u001b[0;34m.\u001b[0m\u001b[0m_jdf\u001b[0m\u001b[0;34m.\u001b[0m\u001b[0mwithColumn\u001b[0m\u001b[0;34m(\u001b[0m\u001b[0mcolName\u001b[0m\u001b[0;34m,\u001b[0m \u001b[0mcol\u001b[0m\u001b[0;34m.\u001b[0m\u001b[0m_jc\u001b[0m\u001b[0;34m)\u001b[0m\u001b[0;34m,\u001b[0m \u001b[0mself\u001b[0m\u001b[0;34m.\u001b[0m\u001b[0msql_ctx\u001b[0m\u001b[0;34m)\u001b[0m\u001b[0;34m\u001b[0m\u001b[0;34m\u001b[0m\u001b[0m\n\u001b[0m\u001b[1;32m   2479\u001b[0m \u001b[0;34m\u001b[0m\u001b[0m\n\u001b[1;32m   2480\u001b[0m     \u001b[0;32mdef\u001b[0m \u001b[0mwithColumnRenamed\u001b[0m\u001b[0;34m(\u001b[0m\u001b[0mself\u001b[0m\u001b[0;34m,\u001b[0m \u001b[0mexisting\u001b[0m\u001b[0;34m,\u001b[0m \u001b[0mnew\u001b[0m\u001b[0;34m)\u001b[0m\u001b[0;34m:\u001b[0m\u001b[0;34m\u001b[0m\u001b[0;34m\u001b[0m\u001b[0m\n",
      "\u001b[0;32m~/opt/anaconda3/lib/python3.8/site-packages/py4j/java_gateway.py\u001b[0m in \u001b[0;36m__call__\u001b[0;34m(self, *args)\u001b[0m\n\u001b[1;32m   1319\u001b[0m \u001b[0;34m\u001b[0m\u001b[0m\n\u001b[1;32m   1320\u001b[0m         \u001b[0manswer\u001b[0m \u001b[0;34m=\u001b[0m \u001b[0mself\u001b[0m\u001b[0;34m.\u001b[0m\u001b[0mgateway_client\u001b[0m\u001b[0;34m.\u001b[0m\u001b[0msend_command\u001b[0m\u001b[0;34m(\u001b[0m\u001b[0mcommand\u001b[0m\u001b[0;34m)\u001b[0m\u001b[0;34m\u001b[0m\u001b[0;34m\u001b[0m\u001b[0m\n\u001b[0;32m-> 1321\u001b[0;31m         return_value = get_return_value(\n\u001b[0m\u001b[1;32m   1322\u001b[0m             answer, self.gateway_client, self.target_id, self.name)\n\u001b[1;32m   1323\u001b[0m \u001b[0;34m\u001b[0m\u001b[0m\n",
      "\u001b[0;32m~/opt/anaconda3/lib/python3.8/site-packages/pyspark/sql/utils.py\u001b[0m in \u001b[0;36mdeco\u001b[0;34m(*a, **kw)\u001b[0m\n\u001b[1;32m    115\u001b[0m                 \u001b[0;31m# Hide where the exception came from that shows a non-Pythonic\u001b[0m\u001b[0;34m\u001b[0m\u001b[0;34m\u001b[0m\u001b[0;34m\u001b[0m\u001b[0m\n\u001b[1;32m    116\u001b[0m                 \u001b[0;31m# JVM exception message.\u001b[0m\u001b[0;34m\u001b[0m\u001b[0;34m\u001b[0m\u001b[0;34m\u001b[0m\u001b[0m\n\u001b[0;32m--> 117\u001b[0;31m                 \u001b[0;32mraise\u001b[0m \u001b[0mconverted\u001b[0m \u001b[0;32mfrom\u001b[0m \u001b[0;32mNone\u001b[0m\u001b[0;34m\u001b[0m\u001b[0;34m\u001b[0m\u001b[0m\n\u001b[0m\u001b[1;32m    118\u001b[0m             \u001b[0;32melse\u001b[0m\u001b[0;34m:\u001b[0m\u001b[0;34m\u001b[0m\u001b[0;34m\u001b[0m\u001b[0m\n\u001b[1;32m    119\u001b[0m                 \u001b[0;32mraise\u001b[0m\u001b[0;34m\u001b[0m\u001b[0;34m\u001b[0m\u001b[0m\n",
      "\u001b[0;31mAnalysisException\u001b[0m: Resolved attribute(s) CLASS#3015 missing from x_scaled#4571 in operator !Project [x_scaled#4571, CLASS#3015 AS CLASS#6530].;\n!Project [x_scaled#4571, CLASS#3015 AS CLASS#6530]\n+- Project [x_scaled#4571]\n   +- Sample 0.0, 0.6818181818181818, false, 23\n      +- Sort [b3#2980 ASC NULLS FIRST, e4#2981 ASC NULLS FIRST, LBE#2982 ASC NULLS FIRST, LB#2983 ASC NULLS FIRST, AC#2984 ASC NULLS FIRST, FM#2985 ASC NULLS FIRST, UC#2986 ASC NULLS FIRST, ASTV#2987 ASC NULLS FIRST, MSTV#2988 ASC NULLS FIRST, ALTV#2989 ASC NULLS FIRST, MLTV#2990 ASC NULLS FIRST, DL#2991 ASC NULLS FIRST, DS#2992 ASC NULLS FIRST, DP#2993 ASC NULLS FIRST, DR#2994 ASC NULLS FIRST, Width#2995 ASC NULLS FIRST, Min#2996 ASC NULLS FIRST, Max#2997 ASC NULLS FIRST, Nmax#2998 ASC NULLS FIRST, Nzeros#2999 ASC NULLS FIRST, Mode#3000 ASC NULLS FIRST, Mean#3001 ASC NULLS FIRST, Median#3002 ASC NULLS FIRST, Variance#3003 ASC NULLS FIRST, ... 5 more fields], false\n         +- Project [b3#2980, e4#2981, LBE#2982, LB#2983, AC#2984, FM#2985, UC#2986, ASTV#2987, MSTV#2988, ALTV#2989, MLTV#2990, DL#2991, DS#2992, DP#2993, DR#2994, Width#2995, Min#2996, Max#2997, Nmax#2998, Nzeros#2999, Mode#3000, Mean#3001, Median#3002, Variance#3003, ... 5 more fields]\n            +- Project [b3#2980, e4#2981, LBE#2982, LB#2983, AC#2984, FM#2985, UC#2986, ASTV#2987, MSTV#2988, ALTV#2989, MLTV#2990, DL#2991, DS#2992, DP#2993, DR#2994, Width#2995, Min#2996, Max#2997, Nmax#2998, Nzeros#2999, Mode#3000, Mean#3001, Median#3002, Variance#3003, ... 4 more fields]\n               +- Project [b3#2980, e4#2981, LBE#2982, LB#2983, AC#2984, FM#2985, UC#2986, ASTV#2987, MSTV#2988, ALTV#2989, MLTV#2990, DL#2991, DS#2992, DP#2993, DR#2994, Width#2995, Min#2996, Max#2997, Nmax#2998, Nzeros#2999, Mode#3000, Mean#3001, Median#3002, Variance#3003, ... 3 more fields]\n                  +- Project [b3#2980, e4#2981, LBE#2982, LB#2983, AC#2984, FM#2985, UC#2986, ASTV#2987, MSTV#2988, ALTV#2989, MLTV#2990, DL#2991, DS#2992, DP#2993, DR#2994, Width#2995, Min#2996, Max#2997, Nmax#2998, Nzeros#2999, Mode#3000, Mean#3001, Median#3002, Variance#3003, ... 13 more fields]\n                     +- Filter atleastnnonnulls(40, FileName#2977, Date#2978, SegFile#2979, b3#2980, e4#2981, LBE#2982, LB#2983, AC#2984, FM#2985, UC#2986, ASTV#2987, MSTV#2988, ALTV#2989, MLTV#2990, DL#2991, DS#2992, DP#2993, DR#2994, Width#2995, Min#2996, Max#2997, Nmax#2998, Nzeros#2999, ... 17 more fields)\n                        +- Relation [FileName#2977,Date#2978,SegFile#2979,b3#2980,e4#2981,LBE#2982,LB#2983,AC#2984,FM#2985,UC#2986,ASTV#2987,MSTV#2988,ALTV#2989,MLTV#2990,DL#2991,DS#2992,DP#2993,DR#2994,Width#2995,Min#2996,Max#2997,Nmax#2998,Nzeros#2999,Mode#3000,... 16 more fields] csv\n"
     ]
    }
   ],
   "source": [
    "training = train_data.select(train_data.columns[-1])\n",
    "training = training.withColumn(\"CLASS\", scaledData.CLASS)\n",
    "\n",
    "testing = test_data.select(test_data.columns[-1])"
   ]
  },
  {
   "cell_type": "code",
   "execution_count": null,
   "id": "7f0b6536",
   "metadata": {},
   "outputs": [],
   "source": []
  }
 ],
 "metadata": {
  "kernelspec": {
   "display_name": "Python 3",
   "language": "python",
   "name": "python3"
  },
  "language_info": {
   "codemirror_mode": {
    "name": "ipython",
    "version": 3
   },
   "file_extension": ".py",
   "mimetype": "text/x-python",
   "name": "python",
   "nbconvert_exporter": "python",
   "pygments_lexer": "ipython3",
   "version": "3.8.8"
  }
 },
 "nbformat": 4,
 "nbformat_minor": 5
}
